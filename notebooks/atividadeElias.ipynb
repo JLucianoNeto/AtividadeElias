{
 "cells": [
  {
   "cell_type": "code",
   "execution_count": 10,
   "metadata": {},
   "outputs": [],
   "source": [
    "f = open(\"/workspaces/codespaces-jupyter/data/dados.csv\", \"r\")\n",
    "colunas=f.readline()\n",
    "\n",
    "dados =[]\n",
    "\n",
    "for x in f:\n",
    "    linha=x.split(',')\n",
    "    linha[0] = int(linha[0])\n",
    "    linha[3] = int(linha[3])\n",
    "\n",
    "    dados.append(linha)"
   ]
  },
  {
   "cell_type": "code",
   "execution_count": null,
   "metadata": {},
   "outputs": [],
   "source": [
    "s1 = colunas\n",
    "s2 = s1[:len(colunas)-1]\n",
    "print(s2)\n",
    "colunas = s2\n",
    "\n",
    "with open(\"/workspaces/codespaces-jupyter/data/dados copy.csv\", \"w\") as o:\n",
    "    print(colunas, file=o)\n",
    "    for line in dados:\n",
    "        print(\"{},{},{},{}\".format(line[0], line[1],line[2],line[3]), file=o)\n",
    "o.close()"
   ]
  },
  {
   "cell_type": "code",
   "execution_count": 26,
   "metadata": {},
   "outputs": [],
   "source": [
    "def verificar_existencia(lista,livro):\n",
    "    if livro in lista:\n",
    "        return True\n",
    "    else:\n",
    "        return False\n",
    "\n",
    "\n",
    "\n",
    "def cadastrar_livro(lista,nome_livro,autor,qtd_estoque):\n",
    "    \n",
    "    ultimo_index=len(lista)\n",
    "    ultima_linha = lista[ultimo_index-1]\n",
    "    livro = [ultima_linha[0]+1,nome_livro,autor,qtd_estoque]\n",
    "    \n",
    "    if verificar_existencia(lista,livro):\n",
    "        print(\"O livro já existe\")\n",
    "    else:\n",
    "        \n",
    "        lista.append(livro)\n",
    "        return lista\n",
    "    \n",
    "def consultar_livro(lista,codigo):\n",
    "\n",
    "    print(\"a\")\n",
    "\n",
    "\n"
   ]
  },
  {
   "cell_type": "code",
   "execution_count": 29,
   "metadata": {},
   "outputs": [],
   "source": [
    "dados = cadastrar_livro(dados,\"josias o mago\", \"Jurema\",5)"
   ]
  },
  {
   "cell_type": "code",
   "execution_count": 30,
   "metadata": {},
   "outputs": [
    {
     "data": {
      "text/plain": [
       "[[1, 'Mintira boa', 'Joao o mentiroso', 2],\n",
       " [3, 'Mintira boa', 'Joao o mentiroso', 2],\n",
       " [4, 'Mintira boa', 'Joao o mentiroso', 5],\n",
       " [5, 'josias o mago', 'Jurema', 5]]"
      ]
     },
     "execution_count": 30,
     "metadata": {},
     "output_type": "execute_result"
    }
   ],
   "source": [
    "dados"
   ]
  },
  {
   "cell_type": "markdown",
   "metadata": {},
   "source": [
    " ## Area da tela"
   ]
  },
  {
   "cell_type": "code",
   "execution_count": 48,
   "metadata": {},
   "outputs": [
    {
     "name": "stdout",
     "output_type": "stream",
     "text": [
      "---MENU PRINCIPAL---\n",
      "1 - Cadastrar novo livro: \n",
      "\n"
     ]
    }
   ],
   "source": [
    "print(\"---MENU PRINCIPAL---\\n1 - Cadastrar novo livro: \\n\" - Consultar livro: \\n3 - Atualizar estoque: \\n4 - Exibir livros\\n-------------------)\n",
    "2"
   ]
  }
 ],
 "metadata": {
  "kernelspec": {
   "display_name": "Python 3",
   "language": "python",
   "name": "python3"
  },
  "language_info": {
   "codemirror_mode": {
    "name": "ipython",
    "version": 3
   },
   "file_extension": ".py",
   "mimetype": "text/x-python",
   "name": "python",
   "nbconvert_exporter": "python",
   "pygments_lexer": "ipython3",
   "version": "3.12.1"
  }
 },
 "nbformat": 4,
 "nbformat_minor": 2
}
