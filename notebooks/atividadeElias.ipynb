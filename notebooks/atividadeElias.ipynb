{
 "cells": [
  {
   "cell_type": "code",
   "execution_count": 1,
   "metadata": {},
   "outputs": [],
   "source": [
    "import pandas as pd"
   ]
  },
  {
   "cell_type": "code",
   "execution_count": 71,
   "metadata": {},
   "outputs": [],
   "source": [
    "df = pd.read_csv('/workspaces/codespaces-jupyter/data/dados.csv')"
   ]
  },
  {
   "cell_type": "code",
   "execution_count": 72,
   "metadata": {},
   "outputs": [
    {
     "data": {
      "text/html": [
       "<div>\n",
       "<style scoped>\n",
       "    .dataframe tbody tr th:only-of-type {\n",
       "        vertical-align: middle;\n",
       "    }\n",
       "\n",
       "    .dataframe tbody tr th {\n",
       "        vertical-align: top;\n",
       "    }\n",
       "\n",
       "    .dataframe thead th {\n",
       "        text-align: right;\n",
       "    }\n",
       "</style>\n",
       "<table border=\"1\" class=\"dataframe\">\n",
       "  <thead>\n",
       "    <tr style=\"text-align: right;\">\n",
       "      <th></th>\n",
       "      <th>CodLivro</th>\n",
       "      <th>NomeLivro</th>\n",
       "      <th>Autor</th>\n",
       "      <th>Qtd_estoque</th>\n",
       "    </tr>\n",
       "  </thead>\n",
       "  <tbody>\n",
       "    <tr>\n",
       "      <th>0</th>\n",
       "      <td>1</td>\n",
       "      <td>Mintira boa</td>\n",
       "      <td>Joao o mentiroso</td>\n",
       "      <td>2</td>\n",
       "    </tr>\n",
       "  </tbody>\n",
       "</table>\n",
       "</div>"
      ],
      "text/plain": [
       "   CodLivro    NomeLivro             Autor  Qtd_estoque\n",
       "0         1  Mintira boa  Joao o mentiroso            2"
      ]
     },
     "execution_count": 72,
     "metadata": {},
     "output_type": "execute_result"
    }
   ],
   "source": [
    "df"
   ]
  },
  {
   "cell_type": "code",
   "execution_count": 73,
   "metadata": {},
   "outputs": [],
   "source": [
    "def verificar_existencia(dataframe,lista):\n",
    "    if lista in dataframe.values:\n",
    "        return True\n",
    "    else:\n",
    "        return False\n",
    "\n",
    "def cadastrar_livro(dataframe,nome_livro,autor,qtd_estoque):\n",
    "    \n",
    "    \n",
    "    ultimo_index=len(dataframe)\n",
    "    ultima_linha = dataframe.loc[ultimo_index-1]\n",
    "    \n",
    "    livro = [ultimo_index-1,nome_livro,autor,qtd_estoque]\n",
    "    \n",
    "\n",
    "    if verificar_existencia(dataframe,livro):\n",
    "        print(\"O livro já existe\")\n",
    "        \n",
    "    else:\n",
    "        ultimo_index=len(dataframe)\n",
    "        ultima_linha = dataframe.loc[ultimo_index-1]\n",
    "        last_id= ultima_linha['CodLivro']\n",
    "\n",
    "        new_row = pd.DataFrame({\"CodLivro\": [last_id+1], \"NomeLivro\": [nome_livro],\"Autor\": [autor],\"Qtd_estoque\":[qtd_estoque]})\n",
    "\n",
    "        dataframe = pd.concat([dataframe, new_row], ignore_index=True)\n",
    "\n",
    "        return dataframe\n",
    "    \n",
    "def consultar_livro(dataframe,codigo):\n",
    "\n",
    "    print(\"a\")\n",
    "\n",
    "\n"
   ]
  },
  {
   "cell_type": "code",
   "execution_count": 74,
   "metadata": {},
   "outputs": [],
   "source": [
    "df = cadastrar_livro(df,\"josias o mago\", \"Jurema\",5)"
   ]
  },
  {
   "cell_type": "code",
   "execution_count": null,
   "metadata": {},
   "outputs": [],
   "source": []
  },
  {
   "cell_type": "code",
   "execution_count": 69,
   "metadata": {},
   "outputs": [
    {
     "data": {
      "text/plain": [
       "False"
      ]
     },
     "execution_count": 69,
     "metadata": {},
     "output_type": "execute_result"
    }
   ],
   "source": [
    "verificar_existencia(df,[2,\"Unknown\", \"teste\",2])"
   ]
  },
  {
   "cell_type": "markdown",
   "metadata": {},
   "source": [
    " ## Area da tela"
   ]
  },
  {
   "cell_type": "code",
   "execution_count": 48,
   "metadata": {},
   "outputs": [
    {
     "name": "stdout",
     "output_type": "stream",
     "text": [
      "---MENU PRINCIPAL---\n",
      "1 - Cadastrar novo livro: \n",
      "\n"
     ]
    }
   ],
   "source": [
    "print(\"---MENU PRINCIPAL---\\n1 - Cadastrar novo livro: \\n\" - Consultar livro: \\n3 - Atualizar estoque: \\n4 - Exibir livros\\n-------------------)\n",
    "2"
   ]
  }
 ],
 "metadata": {
  "kernelspec": {
   "display_name": "Python 3",
   "language": "python",
   "name": "python3"
  },
  "language_info": {
   "codemirror_mode": {
    "name": "ipython",
    "version": 3
   },
   "file_extension": ".py",
   "mimetype": "text/x-python",
   "name": "python",
   "nbconvert_exporter": "python",
   "pygments_lexer": "ipython3",
   "version": "3.12.1"
  }
 },
 "nbformat": 4,
 "nbformat_minor": 2
}
